{
 "cells": [
  {
   "cell_type": "markdown",
   "metadata": {},
   "source": [
    "## Задание № 1"
   ]
  },
  {
   "cell_type": "markdown",
   "metadata": {},
   "source": [
    "Образовательные курсы состоят из различных уроков, каждый из которых состоит из нескольких маленьких заданий. Каждое такое маленькое задание называется \"горошиной\".\n",
    "\n",
    "Назовём очень усердным учеником того пользователя, который хотя бы раз за текущий месяц правильно решил 20 горошин.\n",
    "\n",
    "**Дана таблица default.peas:**\n",
    "\n",
    "|Название атрибута|Тип атрибута|Смысловое значение                       |\n",
    "|-----------------|------------|-----------------------------------------|\n",
    "|st_id\t          |int\t       |ID ученика                               |\n",
    "|timest\t          |timestamp   |Время решения карточки                   |\n",
    "|correct\t      |bool\t       |Правильно ли решена горошина?            |\n",
    "|subject\t      |text\t       |Дисциплина, в которой находится горошина |\n",
    "\n",
    "\n",
    "Необходимо написать оптимальный запрос, который даст информацию о количестве очень усердных студентов.NB! Под усердным студентом мы понимаем студента, который правильно решил 20 задач за текущий месяц."
   ]
  },
  {
   "cell_type": "code",
   "execution_count": 8,
   "metadata": {},
   "outputs": [],
   "source": [
    "# Чтобы проверить запросы на работоспособность, предлагается поднять БД на docker\n",
    "# Команда для запуска БД: docke-compose up\n",
    "# Чтобы она сработала, нужно быть в дирекции с файлом docke-compose.yaml\n",
    "\n",
    "import psycopg2\n",
    "import pandas as pd\n",
    "\n",
    "conn = psycopg2.connect(dbname='default',\n",
    "                        host=\"localhost\",\n",
    "                        user=\"admin\",\n",
    "                        password=\"admin\",\n",
    "                        port='5432')\n",
    "\n",
    "conn.autocommit = True\n",
    "cursor = conn.cursor()"
   ]
  },
  {
   "cell_type": "markdown",
   "metadata": {},
   "source": [
    "### Ответ:"
   ]
  },
  {
   "cell_type": "code",
   "execution_count": 18,
   "metadata": {},
   "outputs": [
    {
     "data": {
      "text/html": [
       "<div>\n",
       "<style scoped>\n",
       "    .dataframe tbody tr th:only-of-type {\n",
       "        vertical-align: middle;\n",
       "    }\n",
       "\n",
       "    .dataframe tbody tr th {\n",
       "        vertical-align: top;\n",
       "    }\n",
       "\n",
       "    .dataframe thead th {\n",
       "        text-align: right;\n",
       "    }\n",
       "</style>\n",
       "<table border=\"1\" class=\"dataframe\">\n",
       "  <thead>\n",
       "    <tr style=\"text-align: right;\">\n",
       "      <th></th>\n",
       "      <th>number_of_hard_studs</th>\n",
       "    </tr>\n",
       "  </thead>\n",
       "  <tbody>\n",
       "    <tr>\n",
       "      <th>0</th>\n",
       "      <td>136</td>\n",
       "    </tr>\n",
       "  </tbody>\n",
       "</table>\n",
       "</div>"
      ],
      "text/plain": [
       "   number_of_hard_studs\n",
       "0                   136"
      ]
     },
     "execution_count": 18,
     "metadata": {},
     "output_type": "execute_result"
    }
   ],
   "source": [
    "query = \"\"\"\n",
    "SELECT\n",
    "    COUNT(sq.st_id) AS number_of_hard_studs\n",
    "FROM\n",
    "    (SELECT st_id\n",
    "     FROM peas\n",
    "     GROUP BY st_id\n",
    "     HAVING SUM(CAST (correct AS int)) >= 20) AS sq\n",
    "\"\"\"\n",
    "cursor.execute(query)\n",
    "pd.DataFrame(cursor.fetchall(), columns=[i[0] for i in cursor.description])"
   ]
  },
  {
   "cell_type": "markdown",
   "metadata": {},
   "source": [
    "## Задание № 2"
   ]
  },
  {
   "cell_type": "markdown",
   "metadata": {},
   "source": [
    "Образовательная платформа предлагает пройти студентам курсы по модели trial: студент может решить бесплатно лишь 30 горошин в день. Для неограниченного количества заданий в определенной дисциплине студенту необходимо приобрести полный доступ. Команда провела эксперимент, где был протестирован новый экран оплаты."
   ]
  },
  {
   "cell_type": "markdown",
   "metadata": {},
   "source": [
    "**Дана таблицы: default.peas (см. выше), default.studs:**\n",
    "\n",
    "|Название атрибута|Тип атрибута|Смысловое значение                 |\n",
    "|-----------------|------------|-----------------------------------|\n",
    "|st_id\t          |int\t       |ID ученика                         |\n",
    "|test_grp\t      |text\t       |Метка ученика в данном эксперименте|"
   ]
  },
  {
   "cell_type": "markdown",
   "metadata": {},
   "source": [
    "**и default.final_project_check:**\n",
    "\n",
    "|Название атрибута|\tТип атрибута|\tСмысловое значение|\n",
    "|-----------------|-------------|---------------------|\n",
    "|st_id            |int \t        |ID ученика\n",
    "|sale_time        |timestamp\t|Время покупки\n",
    "|money            |int          |Цена, по которой приобрели данный курс\n",
    "|subject          |text         | \t"
   ]
  },
  {
   "cell_type": "markdown",
   "metadata": {},
   "source": [
    "Необходимо в одном запросе выгрузить следующую информацию о группах пользователей:\n",
    "- ARPU \n",
    "- ARPAU \n",
    "- CR в покупку \n",
    "- СR активного пользователя в покупку \n",
    "- CR пользователя из активности по математике (subject = ’math’) в покупку курса по математике\n",
    "\n",
    "ARPU считается относительно всех пользователей, попавших в группы.\n",
    "\n",
    "Активным считается пользователь, за все время решивший больше 10 задач правильно в любых дисциплинах.\n",
    "\n",
    "Активным по математике считается пользователь, за все время решивший 2 или больше задач правильно по математике."
   ]
  },
  {
   "cell_type": "markdown",
   "metadata": {},
   "source": [
    "## Ответ:"
   ]
  },
  {
   "cell_type": "code",
   "execution_count": 42,
   "metadata": {},
   "outputs": [
    {
     "data": {
      "text/html": [
       "<div>\n",
       "<style scoped>\n",
       "    .dataframe tbody tr th:only-of-type {\n",
       "        vertical-align: middle;\n",
       "    }\n",
       "\n",
       "    .dataframe tbody tr th {\n",
       "        vertical-align: top;\n",
       "    }\n",
       "\n",
       "    .dataframe thead th {\n",
       "        text-align: right;\n",
       "    }\n",
       "</style>\n",
       "<table border=\"1\" class=\"dataframe\">\n",
       "  <thead>\n",
       "    <tr style=\"text-align: right;\">\n",
       "      <th></th>\n",
       "      <th>test_grp</th>\n",
       "      <th>arpu</th>\n",
       "      <th>arpau</th>\n",
       "      <th>cr</th>\n",
       "      <th>cra</th>\n",
       "      <th>crm</th>\n",
       "    </tr>\n",
       "  </thead>\n",
       "  <tbody>\n",
       "    <tr>\n",
       "      <th>0</th>\n",
       "      <td>control</td>\n",
       "      <td>92333.0</td>\n",
       "      <td>94285.0</td>\n",
       "      <td>9.09</td>\n",
       "      <td>11.02</td>\n",
       "      <td>10.20</td>\n",
       "    </tr>\n",
       "    <tr>\n",
       "      <th>1</th>\n",
       "      <td>pilot</td>\n",
       "      <td>106093.0</td>\n",
       "      <td>114200.0</td>\n",
       "      <td>22.38</td>\n",
       "      <td>26.04</td>\n",
       "      <td>14.29</td>\n",
       "    </tr>\n",
       "  </tbody>\n",
       "</table>\n",
       "</div>"
      ],
      "text/plain": [
       "  test_grp      arpu     arpau     cr    cra    crm\n",
       "0  control   92333.0   94285.0   9.09  11.02  10.20\n",
       "1    pilot  106093.0  114200.0  22.38  26.04  14.29"
      ]
     },
     "execution_count": 42,
     "metadata": {},
     "output_type": "execute_result"
    }
   ],
   "source": [
    "query = \"\"\"\n",
    "SELECT\n",
    "    ARPU.test_grp AS test_grp,\n",
    "    ARPU,\n",
    "    ARPAU,\n",
    "    CR,\n",
    "    CRa,\n",
    "    CRm\n",
    "FROM\n",
    "    -- ARPU ----------------------------------------------------------------------------------------------\n",
    "    (SELECT\n",
    "        test_grp,\n",
    "        ROUND(SUM(money) / COUNT(DISTINCT st_id)) AS ARPU\n",
    "    FROM final_project_check\n",
    "    LEFT JOIN studs USING (st_id)\n",
    "    GROUP BY test_grp) AS ARPU\n",
    "    \n",
    "    -- ARPAU ---------------------------------------------------------------------------------------------\n",
    "    LEFT JOIN (\n",
    "            SELECT\n",
    "                test_grp,\n",
    "                ROUND(SUM(money) / COUNT(DISTINCT st_id)) AS ARPAU\n",
    "            FROM final_project_check\n",
    "            LEFT JOIN studs USING (st_id)\n",
    "            WHERE st_id in (SELECT st_id\n",
    "                            FROM peas\n",
    "                            GROUP BY st_id\n",
    "                            HAVING SUM(CAST (correct AS int)) > 10)\n",
    "            GROUP BY test_grp) AS ARPAU\n",
    "        ON ARPU.test_grp = ARPAU.test_grp\n",
    "    \n",
    "    -- CR ------------------------------------------------------------------------------------------------\n",
    "    LEFT JOIN (SELECT\n",
    "                   test_grp,\n",
    "                   ROUND(check_users / task_users * 100, 2) AS CR\n",
    "               FROM\n",
    "                   (SELECT\n",
    "                        test_grp,\n",
    "                        CAST (COUNT(DISTINCT st_id) AS numeric) AS task_users\n",
    "                    FROM peas\n",
    "                    LEFT JOIN studs USING (st_id)\n",
    "                    GROUP BY test_grp) AS tasks\n",
    "               LEFT JOIN (SELECT\n",
    "                              test_grp,\n",
    "                              CAST (COUNT(DISTINCT st_id) AS numeric) AS check_users\n",
    "                          FROM final_project_check\n",
    "                          LEFT JOIN studs USING (st_id)\n",
    "                          GROUP BY test_grp) AS checks\n",
    "                   USING (test_grp)) AS CR\n",
    "        ON ARPU.test_grp = CR.test_grp\n",
    "    \n",
    "    -- CRa ----------------------------------------------------------------------------------------------\n",
    "    LEFT JOIN (\n",
    "               SELECT\n",
    "                   test_grp,\n",
    "                   ROUND(check_users / task_users * 100, 2) AS CRa\n",
    "               FROM\n",
    "                   (SELECT\n",
    "                        test_grp,\n",
    "                        CAST (COUNT(DISTINCT st_id) AS numeric) AS task_users\n",
    "                    FROM peas\n",
    "                    LEFT JOIN studs USING (st_id)\n",
    "                    WHERE st_id in (SELECT st_id\n",
    "                            FROM peas\n",
    "                            GROUP BY st_id\n",
    "                            HAVING SUM(CAST (correct AS int)) > 10)\n",
    "                    GROUP BY test_grp) AS tasks\n",
    "               LEFT JOIN (SELECT\n",
    "                              test_grp,\n",
    "                              CAST (COUNT(DISTINCT st_id) AS numeric) AS check_users\n",
    "                          FROM final_project_check\n",
    "                          LEFT JOIN studs USING (st_id)\n",
    "                          WHERE st_id in (SELECT st_id\n",
    "                                          FROM peas\n",
    "                                          GROUP BY st_id\n",
    "                                          HAVING SUM(CAST (correct AS int)) > 10)\n",
    "                          GROUP BY test_grp) AS checks\n",
    "                   USING (test_grp)) AS CRa\n",
    "        ON ARPU.test_grp = CRa.test_grp\n",
    "    \n",
    "    -- CRm ----------------------------------------------------------------------------------------------\n",
    "    LEFT JOIN (\n",
    "               SELECT test_grp, ROUND(check_users / task_users * 100, 2) AS CRm\n",
    "               FROM\n",
    "                   (SELECT\n",
    "                       test_grp,\n",
    "                       CAST (COUNT(DISTINCT st_id) AS numeric) AS task_users\n",
    "                    FROM peas\n",
    "                    LEFT JOIN studs USING (st_id)\n",
    "                    WHERE st_id in (SELECT st_id\n",
    "                            FROM peas\n",
    "                            WHERE subject = 'Math'\n",
    "                            GROUP BY st_id\n",
    "                            HAVING SUM(CAST (correct AS int)) > 2)\n",
    "                    GROUP BY test_grp) AS tasks\n",
    "               LEFT JOIN (SELECT\n",
    "                              test_grp,\n",
    "                              CAST (COUNT(DISTINCT st_id) AS numeric) AS check_users\n",
    "                          FROM final_project_check\n",
    "                          LEFT JOIN studs USING (st_id)\n",
    "                          WHERE st_id in (SELECT st_id\n",
    "                                          FROM peas\n",
    "                                          WHERE subject = 'Math'\n",
    "                                          GROUP BY st_id\n",
    "                                          HAVING SUM(CAST (correct AS int)) > 2)\n",
    "                          GROUP BY test_grp) AS checks\n",
    "                   USING (test_grp)) AS CRm\n",
    "        ON ARPU.test_grp = CRm.test_grp;\n",
    "\"\"\"\n",
    "cursor.execute(query)\n",
    "pd.DataFrame(cursor.fetchall(), columns=[i[0] for i in cursor.description])"
   ]
  }
 ],
 "metadata": {
  "kernelspec": {
   "display_name": "Python 3",
   "language": "python",
   "name": "python3"
  },
  "language_info": {
   "codemirror_mode": {
    "name": "ipython",
    "version": 3
   },
   "file_extension": ".py",
   "mimetype": "text/x-python",
   "name": "python",
   "nbconvert_exporter": "python",
   "pygments_lexer": "ipython3",
   "version": "3.10.6"
  }
 },
 "nbformat": 4,
 "nbformat_minor": 4
}
